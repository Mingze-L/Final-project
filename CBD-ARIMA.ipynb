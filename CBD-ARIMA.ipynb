{
 "cells": [
  {
   "cell_type": "markdown",
   "id": "305b51a3-dc36-46cd-b536-feeb700a8562",
   "metadata": {},
   "source": [
    "## Initial data preprocess"
   ]
  },
  {
   "cell_type": "code",
   "execution_count": 1,
   "id": "955001a3-ffe6-4953-8630-c2b22d883965",
   "metadata": {},
   "outputs": [],
   "source": [
    "import pandas as pd"
   ]
  },
  {
   "cell_type": "code",
   "execution_count": 2,
   "id": "384ee038-e4b8-4bec-86b4-453ab3e6221b",
   "metadata": {},
   "outputs": [
    {
     "data": {
      "text/html": [
       "<div>\n",
       "<style scoped>\n",
       "    .dataframe tbody tr th:only-of-type {\n",
       "        vertical-align: middle;\n",
       "    }\n",
       "\n",
       "    .dataframe tbody tr th {\n",
       "        vertical-align: top;\n",
       "    }\n",
       "\n",
       "    .dataframe thead th {\n",
       "        text-align: right;\n",
       "    }\n",
       "</style>\n",
       "<table border=\"1\" class=\"dataframe\">\n",
       "  <thead>\n",
       "    <tr style=\"text-align: right;\">\n",
       "      <th></th>\n",
       "      <th>Unnamed: 0</th>\n",
       "      <th>Year</th>\n",
       "      <th>Age</th>\n",
       "      <th>Female</th>\n",
       "      <th>Male</th>\n",
       "      <th>Total</th>\n",
       "    </tr>\n",
       "  </thead>\n",
       "  <tbody>\n",
       "    <tr>\n",
       "      <th>0</th>\n",
       "      <td>1</td>\n",
       "      <td>1922</td>\n",
       "      <td>0</td>\n",
       "      <td>0.070053</td>\n",
       "      <td>0.092574</td>\n",
       "      <td>0.081500</td>\n",
       "    </tr>\n",
       "    <tr>\n",
       "      <th>1</th>\n",
       "      <td>2</td>\n",
       "      <td>1922</td>\n",
       "      <td>1</td>\n",
       "      <td>0.024976</td>\n",
       "      <td>0.027255</td>\n",
       "      <td>0.026130</td>\n",
       "    </tr>\n",
       "    <tr>\n",
       "      <th>2</th>\n",
       "      <td>3</td>\n",
       "      <td>1922</td>\n",
       "      <td>2</td>\n",
       "      <td>0.012143</td>\n",
       "      <td>0.012979</td>\n",
       "      <td>0.012566</td>\n",
       "    </tr>\n",
       "    <tr>\n",
       "      <th>3</th>\n",
       "      <td>4</td>\n",
       "      <td>1922</td>\n",
       "      <td>3</td>\n",
       "      <td>0.006072</td>\n",
       "      <td>0.006324</td>\n",
       "      <td>0.006199</td>\n",
       "    </tr>\n",
       "    <tr>\n",
       "      <th>4</th>\n",
       "      <td>5</td>\n",
       "      <td>1922</td>\n",
       "      <td>4</td>\n",
       "      <td>0.004426</td>\n",
       "      <td>0.004305</td>\n",
       "      <td>0.004365</td>\n",
       "    </tr>\n",
       "  </tbody>\n",
       "</table>\n",
       "</div>"
      ],
      "text/plain": [
       "   Unnamed: 0  Year Age    Female      Male     Total\n",
       "0           1  1922   0  0.070053  0.092574  0.081500\n",
       "1           2  1922   1  0.024976  0.027255  0.026130\n",
       "2           3  1922   2  0.012143  0.012979  0.012566\n",
       "3           4  1922   3  0.006072  0.006324  0.006199\n",
       "4           5  1922   4  0.004426  0.004305  0.004365"
      ]
     },
     "execution_count": 2,
     "metadata": {},
     "output_type": "execute_result"
    }
   ],
   "source": [
    "df = pd.read_csv('output.csv')\n",
    "df.head()"
   ]
  },
  {
   "cell_type": "code",
   "execution_count": 3,
   "id": "15df79ac-5d0a-4ad9-b133-911cecf03e47",
   "metadata": {},
   "outputs": [
    {
     "name": "stdout",
     "output_type": "stream",
     "text": [
      "Unnamed: 0     int64\n",
      "Year           int64\n",
      "Age           object\n",
      "Female        object\n",
      "Male          object\n",
      "Total         object\n",
      "dtype: object\n"
     ]
    }
   ],
   "source": [
    "column_classes = df.dtypes\n",
    "print(column_classes)"
   ]
  },
  {
   "cell_type": "code",
   "execution_count": 4,
   "id": "dceb2396-c04a-4e66-92e0-a17a563b0d3e",
   "metadata": {},
   "outputs": [],
   "source": [
    "df = df[~((df['Female'] == '.') | (df['Male'] == '.') | (df['Total'] == '.'))]"
   ]
  },
  {
   "cell_type": "code",
   "execution_count": 5,
   "id": "476021e0-76eb-47a5-8b02-5c73085ac95b",
   "metadata": {},
   "outputs": [],
   "source": [
    "# change the data type\n",
    "df['Female'] = df['Female'].astype(float)\n",
    "df['Male'] = df['Male'].astype(float)\n",
    "df['Total'] = df['Total'].astype(float)\n",
    "df['Age'] = df['Age'].str.replace('+', '',regex=False).astype(int)"
   ]
  },
  {
   "cell_type": "code",
   "execution_count": 6,
   "id": "582c903d-fa3c-43d3-91c4-9acd26d55750",
   "metadata": {},
   "outputs": [
    {
     "name": "stdout",
     "output_type": "stream",
     "text": [
      "Unnamed: 0      int64\n",
      "Year            int64\n",
      "Age             int64\n",
      "Female        float64\n",
      "Male          float64\n",
      "Total         float64\n",
      "dtype: object\n"
     ]
    }
   ],
   "source": [
    "column_classes = df.dtypes\n",
    "print(column_classes)"
   ]
  },
  {
   "cell_type": "code",
   "execution_count": 10,
   "id": "b1d6dfde-e627-4d9f-806f-1f865b8d5623",
   "metadata": {},
   "outputs": [
    {
     "data": {
      "text/plain": [
       "105    93\n",
       "106    83\n",
       "107    64\n",
       "108    49\n",
       "109    43\n",
       "110    26\n",
       "Name: Age, dtype: int64"
      ]
     },
     "execution_count": 10,
     "metadata": {},
     "output_type": "execute_result"
    }
   ],
   "source": [
    "# check the age that has the missing value\n",
    "value_cn = df['Age'].value_counts()\n",
    "value_cn[value_cn < 99]"
   ]
  },
  {
   "cell_type": "code",
   "execution_count": 11,
   "id": "4518ce90-b57a-4969-a095-b623d77691f3",
   "metadata": {},
   "outputs": [],
   "source": [
    "# remove those age\n",
    "df = df[(df['Age'] != 105) & (df['Age'] != 106) & (df['Age'] != 107) & (df['Age'] != 108) & (df['Age'] != 109) & (df['Age'] != 110)]"
   ]
  },
  {
   "cell_type": "code",
   "execution_count": 12,
   "id": "9af0214a-93e0-4f95-b614-f19314d1970f",
   "metadata": {},
   "outputs": [],
   "source": [
    "# using the assumption between m(t,x) and q(t,x) to generate q(t,x)\n",
    "import numpy as np\n",
    "df['Female_q'] = 1-np.exp(-df['Female'])\n",
    "df['Male_q'] = 1-np.exp(-df['Male'])\n",
    "df['Total_q'] = 1- np.exp(-df['Total'])"
   ]
  },
  {
   "cell_type": "code",
   "execution_count": 13,
   "id": "485d015c-96dc-413e-ac95-e82326831a50",
   "metadata": {},
   "outputs": [],
   "source": [
    "# logit function\n",
    "def compute_logit(probability):\n",
    "    return np.log(probability / (1 - probability))"
   ]
  },
  {
   "cell_type": "code",
   "execution_count": 14,
   "id": "c524f1c8",
   "metadata": {},
   "outputs": [],
   "source": [
    "# compute the logit q(t,x)\n",
    "epsilon = 1e-20\n",
    "df['Female_log'] =compute_logit(df['Female_q']+epsilon)\n",
    "df['Male_log'] = compute_logit(df['Male_q']+epsilon)\n",
    "df['Total_log'] = compute_logit(df['Total_q']+epsilon)"
   ]
  },
  {
   "cell_type": "code",
   "execution_count": 16,
   "id": "71944231-40fe-4ca6-939d-978ce2da0757",
   "metadata": {},
   "outputs": [
    {
     "name": "stdout",
     "output_type": "stream",
     "text": [
      "The mean age is : 52.0\n"
     ]
    }
   ],
   "source": [
    "# calculate the mean age\n",
    "mean_value = df['Age'].mean()\n",
    "print(\"The mean age is :\",mean_value)"
   ]
  },
  {
   "cell_type": "markdown",
   "id": "f04b660d",
   "metadata": {},
   "source": [
    "## Parameter estimation (SVD)"
   ]
  },
  {
   "cell_type": "markdown",
   "id": "3051c0f5",
   "metadata": {},
   "source": [
    "### Female"
   ]
  },
  {
   "cell_type": "code",
   "execution_count": 17,
   "id": "e5ab02a6",
   "metadata": {},
   "outputs": [],
   "source": [
    "fm_params = {}\n",
    "for year in range(1922,2021):\n",
    "    data_year = df[df['Year'] == year]\n",
    "    n = len(data_year)\n",
    "    matrix = np.array([[1]*n, (data_year['Age']-mean_value).tolist()]).T\n",
    "    U, S, V = np.linalg.svd(matrix, full_matrices=False)\n",
    "    y = data_year[\"Female_log\"]\n",
    "    params = V.T @ np.diag(1/S) @ U.T @ y\n",
    "    fm_params[year] = params  "
   ]
  },
  {
   "cell_type": "code",
   "execution_count": 18,
   "id": "a7f8a9fc",
   "metadata": {},
   "outputs": [],
   "source": [
    "fm_params = pd.DataFrame.from_dict(fm_params, orient='index', columns=['k1', 'k2']).reset_index()\n",
    "fm_params.columns = ['Year','K1','K2']"
   ]
  },
  {
   "cell_type": "code",
   "execution_count": 89,
   "id": "834ec275-a180-406d-ab23-99a349a31156",
   "metadata": {},
   "outputs": [
    {
     "data": {
      "text/html": [
       "<div>\n",
       "<style scoped>\n",
       "    .dataframe tbody tr th:only-of-type {\n",
       "        vertical-align: middle;\n",
       "    }\n",
       "\n",
       "    .dataframe tbody tr th {\n",
       "        vertical-align: top;\n",
       "    }\n",
       "\n",
       "    .dataframe thead th {\n",
       "        text-align: right;\n",
       "    }\n",
       "</style>\n",
       "<table border=\"1\" class=\"dataframe\">\n",
       "  <thead>\n",
       "    <tr style=\"text-align: right;\">\n",
       "      <th></th>\n",
       "      <th>Year</th>\n",
       "      <th>K1</th>\n",
       "      <th>K2</th>\n",
       "    </tr>\n",
       "  </thead>\n",
       "  <tbody>\n",
       "    <tr>\n",
       "      <th>0</th>\n",
       "      <td>1922</td>\n",
       "      <td>-3.795659</td>\n",
       "      <td>0.058101</td>\n",
       "    </tr>\n",
       "    <tr>\n",
       "      <th>1</th>\n",
       "      <td>1923</td>\n",
       "      <td>-3.897522</td>\n",
       "      <td>0.058892</td>\n",
       "    </tr>\n",
       "    <tr>\n",
       "      <th>2</th>\n",
       "      <td>1924</td>\n",
       "      <td>-3.846497</td>\n",
       "      <td>0.059434</td>\n",
       "    </tr>\n",
       "    <tr>\n",
       "      <th>3</th>\n",
       "      <td>1925</td>\n",
       "      <td>-3.855206</td>\n",
       "      <td>0.059806</td>\n",
       "    </tr>\n",
       "    <tr>\n",
       "      <th>4</th>\n",
       "      <td>1926</td>\n",
       "      <td>-3.910063</td>\n",
       "      <td>0.060074</td>\n",
       "    </tr>\n",
       "    <tr>\n",
       "      <th>...</th>\n",
       "      <td>...</td>\n",
       "      <td>...</td>\n",
       "      <td>...</td>\n",
       "    </tr>\n",
       "    <tr>\n",
       "      <th>94</th>\n",
       "      <td>2016</td>\n",
       "      <td>-5.614725</td>\n",
       "      <td>0.089971</td>\n",
       "    </tr>\n",
       "    <tr>\n",
       "      <th>95</th>\n",
       "      <td>2017</td>\n",
       "      <td>-5.637287</td>\n",
       "      <td>0.090838</td>\n",
       "    </tr>\n",
       "    <tr>\n",
       "      <th>96</th>\n",
       "      <td>2018</td>\n",
       "      <td>-5.623028</td>\n",
       "      <td>0.090336</td>\n",
       "    </tr>\n",
       "    <tr>\n",
       "      <th>97</th>\n",
       "      <td>2019</td>\n",
       "      <td>-5.645507</td>\n",
       "      <td>0.089570</td>\n",
       "    </tr>\n",
       "    <tr>\n",
       "      <th>98</th>\n",
       "      <td>2020</td>\n",
       "      <td>-5.614117</td>\n",
       "      <td>0.092725</td>\n",
       "    </tr>\n",
       "  </tbody>\n",
       "</table>\n",
       "<p>99 rows × 3 columns</p>\n",
       "</div>"
      ],
      "text/plain": [
       "    Year        K1        K2\n",
       "0   1922 -3.795659  0.058101\n",
       "1   1923 -3.897522  0.058892\n",
       "2   1924 -3.846497  0.059434\n",
       "3   1925 -3.855206  0.059806\n",
       "4   1926 -3.910063  0.060074\n",
       "..   ...       ...       ...\n",
       "94  2016 -5.614725  0.089971\n",
       "95  2017 -5.637287  0.090838\n",
       "96  2018 -5.623028  0.090336\n",
       "97  2019 -5.645507  0.089570\n",
       "98  2020 -5.614117  0.092725\n",
       "\n",
       "[99 rows x 3 columns]"
      ]
     },
     "execution_count": 89,
     "metadata": {},
     "output_type": "execute_result"
    }
   ],
   "source": [
    "fm_params"
   ]
  },
  {
   "cell_type": "markdown",
   "id": "7ec395c6",
   "metadata": {},
   "source": [
    "### Male"
   ]
  },
  {
   "cell_type": "code",
   "execution_count": 20,
   "id": "18fc47cb",
   "metadata": {},
   "outputs": [],
   "source": [
    "m_params = {}\n",
    "for year in range(1922,2021):\n",
    "    data_year = df[df['Year'] == year]\n",
    "    n = len(data_year)\n",
    "    matrix = np.array([[1]*n, (data_year['Age']-mean_value).tolist()]).T\n",
    "    U, S, V = np.linalg.svd(matrix, full_matrices=False)\n",
    "    y = data_year[\"Male_log\"]\n",
    "    params = V.T @ np.linalg.inv(np.diag(S)) @ U.T @ y\n",
    "    m_params[year] = params \n",
    "    \n",
    "m_params = pd.DataFrame.from_dict(m_params, orient='index', columns=['k1', 'k2']).reset_index()\n",
    "m_params.columns = ['Year','K1','K2']"
   ]
  },
  {
   "cell_type": "code",
   "execution_count": 21,
   "id": "e007c69e",
   "metadata": {},
   "outputs": [
    {
     "data": {
      "text/html": [
       "<div>\n",
       "<style scoped>\n",
       "    .dataframe tbody tr th:only-of-type {\n",
       "        vertical-align: middle;\n",
       "    }\n",
       "\n",
       "    .dataframe tbody tr th {\n",
       "        vertical-align: top;\n",
       "    }\n",
       "\n",
       "    .dataframe thead th {\n",
       "        text-align: right;\n",
       "    }\n",
       "</style>\n",
       "<table border=\"1\" class=\"dataframe\">\n",
       "  <thead>\n",
       "    <tr style=\"text-align: right;\">\n",
       "      <th></th>\n",
       "      <th>Year</th>\n",
       "      <th>K1</th>\n",
       "      <th>K2</th>\n",
       "    </tr>\n",
       "  </thead>\n",
       "  <tbody>\n",
       "    <tr>\n",
       "      <th>0</th>\n",
       "      <td>1922</td>\n",
       "      <td>-3.649543</td>\n",
       "      <td>0.058782</td>\n",
       "    </tr>\n",
       "    <tr>\n",
       "      <th>1</th>\n",
       "      <td>1923</td>\n",
       "      <td>-3.711477</td>\n",
       "      <td>0.060702</td>\n",
       "    </tr>\n",
       "    <tr>\n",
       "      <th>2</th>\n",
       "      <td>1924</td>\n",
       "      <td>-3.676468</td>\n",
       "      <td>0.060773</td>\n",
       "    </tr>\n",
       "    <tr>\n",
       "      <th>3</th>\n",
       "      <td>1925</td>\n",
       "      <td>-4.127788</td>\n",
       "      <td>0.035962</td>\n",
       "    </tr>\n",
       "    <tr>\n",
       "      <th>4</th>\n",
       "      <td>1926</td>\n",
       "      <td>-3.725258</td>\n",
       "      <td>0.061679</td>\n",
       "    </tr>\n",
       "    <tr>\n",
       "      <th>...</th>\n",
       "      <td>...</td>\n",
       "      <td>...</td>\n",
       "      <td>...</td>\n",
       "    </tr>\n",
       "    <tr>\n",
       "      <th>94</th>\n",
       "      <td>2016</td>\n",
       "      <td>-5.208599</td>\n",
       "      <td>0.088208</td>\n",
       "    </tr>\n",
       "    <tr>\n",
       "      <th>95</th>\n",
       "      <td>2017</td>\n",
       "      <td>-5.219971</td>\n",
       "      <td>0.088197</td>\n",
       "    </tr>\n",
       "    <tr>\n",
       "      <th>96</th>\n",
       "      <td>2018</td>\n",
       "      <td>-5.200147</td>\n",
       "      <td>0.087722</td>\n",
       "    </tr>\n",
       "    <tr>\n",
       "      <th>97</th>\n",
       "      <td>2019</td>\n",
       "      <td>-5.251218</td>\n",
       "      <td>0.087743</td>\n",
       "    </tr>\n",
       "    <tr>\n",
       "      <th>98</th>\n",
       "      <td>2020</td>\n",
       "      <td>-5.170331</td>\n",
       "      <td>0.089808</td>\n",
       "    </tr>\n",
       "  </tbody>\n",
       "</table>\n",
       "<p>99 rows × 3 columns</p>\n",
       "</div>"
      ],
      "text/plain": [
       "    Year        K1        K2\n",
       "0   1922 -3.649543  0.058782\n",
       "1   1923 -3.711477  0.060702\n",
       "2   1924 -3.676468  0.060773\n",
       "3   1925 -4.127788  0.035962\n",
       "4   1926 -3.725258  0.061679\n",
       "..   ...       ...       ...\n",
       "94  2016 -5.208599  0.088208\n",
       "95  2017 -5.219971  0.088197\n",
       "96  2018 -5.200147  0.087722\n",
       "97  2019 -5.251218  0.087743\n",
       "98  2020 -5.170331  0.089808\n",
       "\n",
       "[99 rows x 3 columns]"
      ]
     },
     "execution_count": 21,
     "metadata": {},
     "output_type": "execute_result"
    }
   ],
   "source": [
    "m_params"
   ]
  },
  {
   "cell_type": "markdown",
   "id": "590818c5",
   "metadata": {},
   "source": [
    "### Total"
   ]
  },
  {
   "cell_type": "code",
   "execution_count": 22,
   "id": "a6a6b6d6",
   "metadata": {},
   "outputs": [],
   "source": [
    "t_params = {}\n",
    "for year in range(1922,2021):\n",
    "    data_year = df[df['Year'] == year]\n",
    "    n = len(data_year)\n",
    "    matrix = np.array([[1]*n, (data_year['Age']-mean_value).tolist()]).T\n",
    "    U, S, V = np.linalg.svd(matrix, full_matrices=False)\n",
    "    y = data_year[\"Total_log\"]\n",
    "    params = V.T @ np.linalg.inv(np.diag(S)) @ U.T @ y\n",
    "    t_params[year] = params \n",
    "    \n",
    "t_params = pd.DataFrame.from_dict(t_params, orient='index', columns=['k1', 'k2']).reset_index()\n",
    "t_params.columns = ['Year','K1','K2']"
   ]
  },
  {
   "cell_type": "code",
   "execution_count": 23,
   "id": "24c90770",
   "metadata": {},
   "outputs": [
    {
     "data": {
      "text/html": [
       "<div>\n",
       "<style scoped>\n",
       "    .dataframe tbody tr th:only-of-type {\n",
       "        vertical-align: middle;\n",
       "    }\n",
       "\n",
       "    .dataframe tbody tr th {\n",
       "        vertical-align: top;\n",
       "    }\n",
       "\n",
       "    .dataframe thead th {\n",
       "        text-align: right;\n",
       "    }\n",
       "</style>\n",
       "<table border=\"1\" class=\"dataframe\">\n",
       "  <thead>\n",
       "    <tr style=\"text-align: right;\">\n",
       "      <th></th>\n",
       "      <th>Year</th>\n",
       "      <th>K1</th>\n",
       "      <th>K2</th>\n",
       "    </tr>\n",
       "  </thead>\n",
       "  <tbody>\n",
       "    <tr>\n",
       "      <th>0</th>\n",
       "      <td>1922</td>\n",
       "      <td>-3.724782</td>\n",
       "      <td>0.058427</td>\n",
       "    </tr>\n",
       "    <tr>\n",
       "      <th>1</th>\n",
       "      <td>1923</td>\n",
       "      <td>-3.814474</td>\n",
       "      <td>0.059363</td>\n",
       "    </tr>\n",
       "    <tr>\n",
       "      <th>2</th>\n",
       "      <td>1924</td>\n",
       "      <td>-3.769654</td>\n",
       "      <td>0.059733</td>\n",
       "    </tr>\n",
       "    <tr>\n",
       "      <th>3</th>\n",
       "      <td>1925</td>\n",
       "      <td>-3.779151</td>\n",
       "      <td>0.059990</td>\n",
       "    </tr>\n",
       "    <tr>\n",
       "      <th>4</th>\n",
       "      <td>1926</td>\n",
       "      <td>-3.825288</td>\n",
       "      <td>0.060573</td>\n",
       "    </tr>\n",
       "    <tr>\n",
       "      <th>...</th>\n",
       "      <td>...</td>\n",
       "      <td>...</td>\n",
       "      <td>...</td>\n",
       "    </tr>\n",
       "    <tr>\n",
       "      <th>94</th>\n",
       "      <td>2016</td>\n",
       "      <td>-5.399513</td>\n",
       "      <td>0.088107</td>\n",
       "    </tr>\n",
       "    <tr>\n",
       "      <th>95</th>\n",
       "      <td>2017</td>\n",
       "      <td>-5.412246</td>\n",
       "      <td>0.088625</td>\n",
       "    </tr>\n",
       "    <tr>\n",
       "      <th>96</th>\n",
       "      <td>2018</td>\n",
       "      <td>-5.394322</td>\n",
       "      <td>0.087986</td>\n",
       "    </tr>\n",
       "    <tr>\n",
       "      <th>97</th>\n",
       "      <td>2019</td>\n",
       "      <td>-5.431147</td>\n",
       "      <td>0.087844</td>\n",
       "    </tr>\n",
       "    <tr>\n",
       "      <th>98</th>\n",
       "      <td>2020</td>\n",
       "      <td>-5.373601</td>\n",
       "      <td>0.090323</td>\n",
       "    </tr>\n",
       "  </tbody>\n",
       "</table>\n",
       "<p>99 rows × 3 columns</p>\n",
       "</div>"
      ],
      "text/plain": [
       "    Year        K1        K2\n",
       "0   1922 -3.724782  0.058427\n",
       "1   1923 -3.814474  0.059363\n",
       "2   1924 -3.769654  0.059733\n",
       "3   1925 -3.779151  0.059990\n",
       "4   1926 -3.825288  0.060573\n",
       "..   ...       ...       ...\n",
       "94  2016 -5.399513  0.088107\n",
       "95  2017 -5.412246  0.088625\n",
       "96  2018 -5.394322  0.087986\n",
       "97  2019 -5.431147  0.087844\n",
       "98  2020 -5.373601  0.090323\n",
       "\n",
       "[99 rows x 3 columns]"
      ]
     },
     "execution_count": 23,
     "metadata": {},
     "output_type": "execute_result"
    }
   ],
   "source": [
    "t_params"
   ]
  },
  {
   "cell_type": "markdown",
   "id": "ce7fc858-824d-4771-b68a-53fc45bc40fb",
   "metadata": {},
   "source": [
    "## boot-strap 5 sample training data"
   ]
  },
  {
   "cell_type": "code",
   "execution_count": 24,
   "id": "17a28e2d-6933-41da-bf9c-621193c0ada3",
   "metadata": {},
   "outputs": [],
   "source": [
    "# Train set\n",
    "split_index_fm = int(len(fm_params) * 0.8)\n",
    "split_index_m = int(len(m_params) * 0.8)\n",
    "split_index_t = int(len(t_params) * 0.8)\n",
    "\n",
    "fm = fm_params[:split_index_fm]\n",
    "m = m_params[:split_index_m]\n",
    "t = t_params[:split_index_t]\n",
    "\n",
    "split_index_fm_v = int(len(fm) * 0.8)\n",
    "split_index_m_v = int(len(m) * 0.8)\n",
    "split_index_t_v = int(len(t) * 0.8)\n",
    "\n",
    "train_fm = fm[:split_index_fm_v]\n",
    "train_m = m[:split_index_m_v]\n",
    "train_t = t[:split_index_t_v]\n",
    "\n",
    "# Validation set\n",
    "valid_fm = fm[split_index_fm_v:]\n",
    "valid_m = m[split_index_m_v:]\n",
    "valid_t = t[split_index_t_v:]\n",
    "\n",
    "# Test set\n",
    "test_fm = fm_params[split_index_fm:]\n",
    "test_m = m_params[split_index_m:]\n",
    "test_t = t_params[split_index_t:]"
   ]
  },
  {
   "cell_type": "code",
   "execution_count": 25,
   "id": "0519eee0-3cdd-4826-89cb-c0569777971c",
   "metadata": {},
   "outputs": [],
   "source": [
    "from sklearn.preprocessing import StandardScaler\n",
    "# Create an instance of the StandardScaler\n",
    "scaler = StandardScaler()\n",
    "\n",
    "# Fit the scaler to your training data\n",
    "scaler.fit(train_fm['K2'].values.reshape(-1, 1))\n",
    "X_train_scaled = scaler.transform(train_fm['K2'].values.reshape(-1, 1))\n",
    "\n",
    "scaler.fit(train_m['K2'].values.reshape(-1, 1))\n",
    "X_train_scaled_m = scaler.transform(train_m['K2'].values.reshape(-1, 1))\n",
    "\n",
    "scaler.fit(train_t['K2'].values.reshape(-1, 1))\n",
    "X_train_scaled_t = scaler.transform(train_t['K2'].values.reshape(-1, 1))"
   ]
  },
  {
   "cell_type": "markdown",
   "id": "43845682-fec9-4cc0-b979-40aecc1f2a0d",
   "metadata": {},
   "source": [
    "### death rate estimation"
   ]
  },
  {
   "cell_type": "code",
   "execution_count": 72,
   "id": "c4372c09-4e4b-49bd-beea-d5ab4b0fd96f",
   "metadata": {},
   "outputs": [],
   "source": [
    "rest_data = df[df['Year']>=1985]"
   ]
  },
  {
   "cell_type": "code",
   "execution_count": 178,
   "id": "0858597a-b72e-496f-b956-f28a636a8aee",
   "metadata": {},
   "outputs": [],
   "source": [
    "ages = np.arange(0, 105)\n",
    "\n",
    "# Function to calculate m(t,x) given the value of K1, K2 and age\n",
    "def calculate_y(K1, K2, ages):\n",
    "    return -np.log(1 - (np.exp(K1 + K2 * (ages - 52))) / (1 + (np.exp(K1 + K2 * (ages - 52)))))\n",
    "\n",
    "# Create a list to store the intermediate DataFrames\n",
    "result_dfs = []\n",
    "\n",
    "# Calculate m(t,x) for each age and year combination using a loop\n",
    "for index, row in train_fm.iterrows():\n",
    "    result_df = pd.DataFrame()\n",
    "    result_df['Year'] = [row['Year']] * len(ages)\n",
    "    result_df['Age'] = ages\n",
    "    result_df['Female'] = calculate_y(row['K1'], row['K2'], ages)\n",
    "    result_dfs.append(result_df)\n",
    "\n",
    "# Female m(t,x) estimation\n",
    "result_fm = pd.concat(result_dfs, ignore_index=True)"
   ]
  },
  {
   "cell_type": "code",
   "execution_count": 179,
   "id": "9acbd506-6bef-403f-ac7f-de6edab4481f",
   "metadata": {},
   "outputs": [],
   "source": [
    "# Create a list to store the intermediate DataFrames\n",
    "result_dfs = []\n",
    "\n",
    "# Calculate m(t,x) for each age and year combination using a loop\n",
    "for index, row in train_m.iterrows():\n",
    "    result_df = pd.DataFrame()\n",
    "    result_df['Year'] = [row['Year']] * len(ages)\n",
    "    result_df['Age'] = ages\n",
    "    result_df['Male'] = calculate_y(row['K1'], row['K2'], ages)\n",
    "    result_dfs.append(result_df)\n",
    "\n",
    "# Male m(t,x) estimation\n",
    "result_m = pd.concat(result_dfs, ignore_index=True)"
   ]
  },
  {
   "cell_type": "code",
   "execution_count": 180,
   "id": "35d772fe-3f6f-404f-98db-6cb20ed69947",
   "metadata": {},
   "outputs": [],
   "source": [
    "# Create a list to store the intermediate DataFrames\n",
    "result_dfs = []\n",
    "\n",
    "# Calculate m(t,x) for each age and year combination using a loop\n",
    "for index, row in train_t.iterrows():\n",
    "    result_df = pd.DataFrame()\n",
    "    result_df['Year'] = [row['Year']] * len(ages)\n",
    "    result_df['Age'] = ages\n",
    "    result_df['Total'] = calculate_y(row['K1'], row['K2'], ages)\n",
    "    result_dfs.append(result_df)\n",
    "\n",
    "# Total m(t,x) estimation\n",
    "result_t = pd.concat(result_dfs, ignore_index=True)"
   ]
  },
  {
   "cell_type": "markdown",
   "id": "3323bcfb-b6b3-4f83-a8e3-7379fdc2a5ce",
   "metadata": {},
   "source": [
    "### deviance residual for exponential distribution"
   ]
  },
  {
   "cell_type": "code",
   "execution_count": 228,
   "id": "efdda089-a886-47e7-9537-699462651c5d",
   "metadata": {},
   "outputs": [],
   "source": [
    "train_org = df[df['Year']<= 1984]"
   ]
  },
  {
   "cell_type": "code",
   "execution_count": 229,
   "id": "506f703d-4491-4417-b428-e0186e5bcca5",
   "metadata": {},
   "outputs": [],
   "source": [
    "train_org = train_org.reset_index(drop=True)"
   ]
  },
  {
   "cell_type": "code",
   "execution_count": 231,
   "id": "ff1b3f0e-6db6-4c3d-b4bc-3ea7570d86df",
   "metadata": {},
   "outputs": [],
   "source": [
    "# calculate the devaince residual\n",
    "sqrt_fm = 2 * (1 - train_org['Female'] / result_fm['Female'] + np.log(result_fm['Female'] / train_org['Female']))\n",
    "sqrt_m = 2 * (1 - train_org['Male'] / result_m['Male'] + np.log(result_m['Male'] / train_org['Male']))\n",
    "sqrt_t = 2 * (1 - train_org['Total'] / result_t['Total'] + np.log(result_t['Total'] / train_org['Total']))\n",
    "\n",
    "sqrt_ng_fm = np.clip(sqrt_fm, a_min=0, a_max=None)\n",
    "sqrt_ng_m = np.clip(sqrt_m, a_min=0, a_max=None)\n",
    "sqrt_ng_t = np.clip(sqrt_t, a_min=0, a_max=None)\n",
    "\n",
    "fm_d = np.where(sqrt_fm >= 0,\n",
    "                np.sign(train_org['Female'] - result_fm['Female']) * np.sqrt(sqrt_ng_fm),\n",
    "                np.nan\n",
    "               )\n",
    "m_d = np.where(sqrt_m >= 0,\n",
    "                np.sign(train_org['Male'] - result_m['Male']) * np.sqrt(sqrt_ng_m),\n",
    "                np.nan\n",
    "               )\n",
    "t_d = np.where(sqrt_t >= 0,\n",
    "                np.sign(train_org['Total'] - result_t['Total']) * np.sqrt(sqrt_ng_t),\n",
    "                np.nan\n",
    "               )"
   ]
  },
  {
   "cell_type": "code",
   "execution_count": 245,
   "id": "f4ea53d6-b5f4-4aa6-95b7-95e8db753b17",
   "metadata": {},
   "outputs": [],
   "source": [
    "nan_mask = np.isnan(fm_d)\n",
    "fm_d = fm_d[~nan_mask]\n",
    "\n",
    "nan_mask_m = np.isnan(m_d)\n",
    "m_d = m_d[~nan_mask_m]\n",
    "\n",
    "nan_mask_t = np.isnan(t_d)\n",
    "t_d = t_d[~nan_mask_t]"
   ]
  },
  {
   "cell_type": "code",
   "execution_count": 328,
   "id": "f3dc5e99-2535-4dee-afe5-0ba67051d269",
   "metadata": {},
   "outputs": [],
   "source": [
    "mask = np.isinf(m_d)\n",
    "m_d = m_d[~mask]"
   ]
  },
  {
   "cell_type": "markdown",
   "id": "e9f7b845-0324-4915-844a-6d99a81b45ee",
   "metadata": {},
   "source": [
    "### bootstrap"
   ]
  },
  {
   "cell_type": "code",
   "execution_count": 349,
   "id": "dabdc6c6-8523-4845-a182-5af5bb611877",
   "metadata": {},
   "outputs": [],
   "source": [
    "# Perform bootstrap sampling with replacement\n",
    "fm_bs = np.random.choice(fm_d, size=(5, len(result_fm)), replace=True)\n",
    "m_bs = np.random.choice(m_d, size=(5, len(result_m)), replace=True)\n",
    "t_bs = np.random.choice(t_d, size=(5, len(result_t)), replace=True)"
   ]
  },
  {
   "cell_type": "markdown",
   "id": "f38b3e88-7820-4d02-a122-af9cb7295134",
   "metadata": {},
   "source": [
    "### re-estimate the death rate"
   ]
  },
  {
   "cell_type": "code",
   "execution_count": 350,
   "id": "c0cd2ad7-0cfa-4a8c-be81-bdb7426eec67",
   "metadata": {},
   "outputs": [],
   "source": [
    "# implementation of the Newton-Raphson method\n",
    "def f(x, m, r):\n",
    "    return 2 * (1- m/x + np.log(x/m)) - r**2\n",
    "\n",
    "def df(x, m):\n",
    "    return 2 * ( m / x**2 + 1/x)\n",
    "\n",
    "def newton_raphson(m, r, initial_guess, max_iterations=100, tolerance=1e-8):\n",
    "    x_n = initial_guess\n",
    "    for i in range(max_iterations):\n",
    "        if m == 0:\n",
    "            m = 1e-8\n",
    "        f_x_n = f(x_n, m, r)\n",
    "        df_x_n = df(x_n, m)\n",
    "\n",
    "        x_n_plus_1 = x_n - f_x_n / df_x_n\n",
    "        if x_n_plus_1 <= 0:\n",
    "            x_n_plus_1 = 1e-8\n",
    "\n",
    "        if abs(x_n_plus_1 - x_n) < tolerance:\n",
    "            break\n",
    "\n",
    "        x_n = x_n_plus_1\n",
    "\n",
    "    return x_n"
   ]
  },
  {
   "cell_type": "code",
   "execution_count": 357,
   "id": "4da0ea22-4cce-4d42-b1cf-d0699ae7cf77",
   "metadata": {},
   "outputs": [],
   "source": [
    "# re-estimate death rate for female\n",
    "solutions_fm = []\n",
    "for r in fm_bs:\n",
    "    current_solutions = []\n",
    "    for r_value, m in zip(r, train_org['Female']):\n",
    "        initial_guess = 0.1  # You can choose any appropriate initial guess\n",
    "        solution = newton_raphson(m, r_value, initial_guess)\n",
    "        current_solutions.append(solution)\n",
    "    solutions_fm.append(current_solutions)"
   ]
  },
  {
   "cell_type": "code",
   "execution_count": 358,
   "id": "50440dfe-771a-4ae4-abd4-71e54cd3f70a",
   "metadata": {},
   "outputs": [],
   "source": [
    "# re-estimate death rate for male\n",
    "solutions_m = []\n",
    "for r in m_bs:\n",
    "    current_solutions = []\n",
    "    for r_value, m in zip(r, train_org['Male']):\n",
    "        initial_guess = 0.1  # You can choose any appropriate initial guess\n",
    "        solution = newton_raphson(m, r_value, initial_guess)\n",
    "        current_solutions.append(solution)\n",
    "    solutions_m.append(current_solutions)"
   ]
  },
  {
   "cell_type": "code",
   "execution_count": 359,
   "id": "58f545b3-3a9f-4869-91ee-3fe32efa65f5",
   "metadata": {},
   "outputs": [],
   "source": [
    "# re-estimate death rate for Total\n",
    "solutions_t = []\n",
    "for r in t_bs:\n",
    "    current_solutions = []\n",
    "    for r_value, m in zip(r, train_org['Total']):\n",
    "        initial_guess = 0.1  # You can choose any appropriate initial guess\n",
    "        solution = newton_raphson(m, r_value, initial_guess)\n",
    "        current_solutions.append(solution)\n",
    "    solutions_t.append(current_solutions)"
   ]
  },
  {
   "cell_type": "markdown",
   "id": "0869d12d-adcc-43fe-b51e-7fdd164571e0",
   "metadata": {},
   "source": [
    "### create the death rate data"
   ]
  },
  {
   "cell_type": "code",
   "execution_count": 364,
   "id": "0aa7cdd2-23d2-4f84-9be7-556fda7c0e4b",
   "metadata": {},
   "outputs": [],
   "source": [
    "df_fm = pd.DataFrame(solutions_fm)\n",
    "df_fm = df_fm.transpose()"
   ]
  },
  {
   "cell_type": "code",
   "execution_count": 367,
   "id": "cf3fabef-ae76-4878-aec8-33686d3be649",
   "metadata": {},
   "outputs": [],
   "source": [
    "df_fm['Year']=train_org['Year']"
   ]
  },
  {
   "cell_type": "code",
   "execution_count": 369,
   "id": "1772c89c-ba8c-4066-b3a7-7080b1f16f64",
   "metadata": {},
   "outputs": [],
   "source": [
    "df_fm['Age']=train_org['Age']"
   ]
  },
  {
   "cell_type": "code",
   "execution_count": 372,
   "id": "1c7f5b49-b6b8-42a2-afa4-bc1f982db4f5",
   "metadata": {},
   "outputs": [],
   "source": [
    "df_m = pd.DataFrame(solutions_m)\n",
    "df_m = df_m.transpose()\n",
    "df_m['Year']=train_org['Year']\n",
    "df_m['Age']=train_org['Age']"
   ]
  },
  {
   "cell_type": "code",
   "execution_count": 373,
   "id": "94adb75f-4da6-4786-9860-768987028c48",
   "metadata": {},
   "outputs": [],
   "source": [
    "df_t = pd.DataFrame(solutions_t)\n",
    "df_t = df_t.transpose()\n",
    "df_t['Year']=train_org['Year']\n",
    "df_t['Age']=train_org['Age']"
   ]
  },
  {
   "cell_type": "code",
   "execution_count": 375,
   "id": "ca618217-8a86-4000-9f73-d933e40a561a",
   "metadata": {},
   "outputs": [],
   "source": [
    "df_fm.to_csv('fm_sample.csv', index=False)\n",
    "df_m.to_csv('m_sample.csv', index=False)\n",
    "df_t.to_csv('t_sample.csv', index=False)"
   ]
  },
  {
   "cell_type": "markdown",
   "id": "7000a214-9471-4c35-a7b8-eb4ab1a4bede",
   "metadata": {},
   "source": [
    "### create sample data of k2 (use SVD)"
   ]
  },
  {
   "cell_type": "code",
   "execution_count": 380,
   "id": "49e235d1-fb07-4582-80ca-a94b0276a6b0",
   "metadata": {},
   "outputs": [],
   "source": [
    "epsilon = 1e-20\n",
    "df_fm['0_log'] = compute_logit(1-np.exp(-df_fm[0])+epsilon)\n",
    "df_fm['1_log'] = compute_logit(1-np.exp(-df_fm[1])+epsilon)\n",
    "df_fm['2_log'] = compute_logit(1-np.exp(-df_fm[2])+epsilon)\n",
    "df_fm['3_log'] = compute_logit(1-np.exp(-df_fm[3])+epsilon)\n",
    "df_fm['4_log'] = compute_logit(1-np.exp(-df_fm[4])+epsilon)"
   ]
  },
  {
   "cell_type": "code",
   "execution_count": 382,
   "id": "fce7513c-60a1-47c4-87fd-37a9ee88f2fc",
   "metadata": {},
   "outputs": [],
   "source": [
    "df_m['0_log'] = compute_logit(1-np.exp(-df_m[0])+epsilon)\n",
    "df_m['1_log'] = compute_logit(1-np.exp(-df_m[1])+epsilon)\n",
    "df_m['2_log'] = compute_logit(1-np.exp(-df_m[2])+epsilon)\n",
    "df_m['3_log'] = compute_logit(1-np.exp(-df_m[3])+epsilon)\n",
    "df_m['4_log'] = compute_logit(1-np.exp(-df_m[4])+epsilon)"
   ]
  },
  {
   "cell_type": "code",
   "execution_count": 383,
   "id": "57463d50-727e-4415-8ad2-0cf266918aee",
   "metadata": {},
   "outputs": [],
   "source": [
    "df_t['0_log'] = compute_logit(1-np.exp(-df_t[0])+epsilon)\n",
    "df_t['1_log'] = compute_logit(1-np.exp(-df_t[1])+epsilon)\n",
    "df_t['2_log'] = compute_logit(1-np.exp(-df_t[2])+epsilon)\n",
    "df_t['3_log'] = compute_logit(1-np.exp(-df_t[3])+epsilon)\n",
    "df_t['4_log'] = compute_logit(1-np.exp(-df_t[4])+epsilon)"
   ]
  },
  {
   "cell_type": "code",
   "execution_count": 384,
   "id": "49f6ff8b-b2b1-495e-92cf-51e65ef7cad2",
   "metadata": {},
   "outputs": [],
   "source": [
    "fm_params_1 = {}\n",
    "fm_params_2 = {}\n",
    "fm_params_3 = {}\n",
    "fm_params_4 = {}\n",
    "fm_params_5 = {}\n",
    "for year in range(1922,1985):\n",
    "    data_year = df_fm[df_fm['Year'] == year]\n",
    "    n = len(data_year)\n",
    "    matrix = np.array([[1]*n, (data_year['Age']-mean_value).tolist()]).T\n",
    "    U, S, V = np.linalg.svd(matrix, full_matrices=False)\n",
    "    \n",
    "    y1 = data_year[\"0_log\"]\n",
    "    y2 = data_year[\"1_log\"]\n",
    "    y3 = data_year[\"2_log\"]\n",
    "    y4 = data_year[\"3_log\"]\n",
    "    y5 = data_year[\"4_log\"]\n",
    "    \n",
    "    params1 = V.T @ np.linalg.inv(np.diag(S)) @ U.T @ y1\n",
    "    params2 = V.T @ np.linalg.inv(np.diag(S)) @ U.T @ y2\n",
    "    params3 = V.T @ np.linalg.inv(np.diag(S)) @ U.T @ y3\n",
    "    params4 = V.T @ np.linalg.inv(np.diag(S)) @ U.T @ y4\n",
    "    params5 = V.T @ np.linalg.inv(np.diag(S)) @ U.T @ y5\n",
    "   \n",
    "    fm_params_1[year] = params1\n",
    "    fm_params_2[year] = params2\n",
    "    fm_params_3[year] = params3\n",
    "    fm_params_4[year] = params4\n",
    "    fm_params_5[year] = params5\n",
    "    \n",
    "fm_params_1 = pd.DataFrame.from_dict(fm_params_1, orient='index', columns=['k1', 'k2']).reset_index()\n",
    "fm_params_1.columns = ['Year','K1','K2']\n",
    "\n",
    "fm_params_2 = pd.DataFrame.from_dict(fm_params_2, orient='index', columns=['k1', 'k2']).reset_index()\n",
    "fm_params_2.columns = ['Year','K1','K2']\n",
    "\n",
    "fm_params_3 = pd.DataFrame.from_dict(fm_params_3, orient='index', columns=['k1', 'k2']).reset_index()\n",
    "fm_params_3.columns = ['Year','K1','K2']\n",
    "\n",
    "fm_params_4 = pd.DataFrame.from_dict(fm_params_4, orient='index', columns=['k1', 'k2']).reset_index()\n",
    "fm_params_4.columns = ['Year','K1','K2']\n",
    "\n",
    "fm_params_5 = pd.DataFrame.from_dict(fm_params_5, orient='index', columns=['k1', 'k2']).reset_index()\n",
    "fm_params_5.columns = ['Year','K1','K2']"
   ]
  },
  {
   "cell_type": "code",
   "execution_count": 401,
   "id": "cc6a7788-8bab-497d-a0b2-9b9b8ca6e283",
   "metadata": {},
   "outputs": [],
   "source": [
    "m_params_1 = {}\n",
    "m_params_2 = {}\n",
    "m_params_3 = {}\n",
    "m_params_4 = {}\n",
    "m_params_5 = {}\n",
    "for year in range(1922,1985):\n",
    "    data_year = df_m[df_m['Year'] == year]\n",
    "    n = len(data_year)\n",
    "    matrix = np.array([[1]*n, (data_year['Age']-mean_value).tolist()]).T\n",
    "    U, S, V = np.linalg.svd(matrix, full_matrices=False)\n",
    "    \n",
    "    y1 = data_year[\"0_log\"]\n",
    "    y2 = data_year[\"1_log\"]\n",
    "    y3 = data_year[\"2_log\"]\n",
    "    y4 = data_year[\"3_log\"]\n",
    "    y5 = data_year[\"4_log\"]\n",
    "    \n",
    "    params1 = V.T @ np.linalg.inv(np.diag(S)) @ U.T @ y1\n",
    "    params2 = V.T @ np.linalg.inv(np.diag(S)) @ U.T @ y2\n",
    "    params3 = V.T @ np.linalg.inv(np.diag(S)) @ U.T @ y3\n",
    "    params4 = V.T @ np.linalg.inv(np.diag(S)) @ U.T @ y4\n",
    "    params5 = V.T @ np.linalg.inv(np.diag(S)) @ U.T @ y5\n",
    "   \n",
    "    m_params_1[year] = params1\n",
    "    m_params_2[year] = params2\n",
    "    m_params_3[year] = params3\n",
    "    m_params_4[year] = params4\n",
    "    m_params_5[year] = params5\n",
    "    \n",
    "m_params_1 = pd.DataFrame.from_dict(m_params_1, orient='index', columns=['k1', 'k2']).reset_index()\n",
    "m_params_1.columns = ['Year','K1','K2']\n",
    "\n",
    "m_params_2 = pd.DataFrame.from_dict(m_params_2, orient='index', columns=['k1', 'k2']).reset_index()\n",
    "m_params_2.columns = ['Year','K1','K2']\n",
    "\n",
    "m_params_3 = pd.DataFrame.from_dict(m_params_3, orient='index', columns=['k1', 'k2']).reset_index()\n",
    "m_params_3.columns = ['Year','K1','K2']\n",
    "\n",
    "m_params_4 = pd.DataFrame.from_dict(m_params_4, orient='index', columns=['k1', 'k2']).reset_index()\n",
    "m_params_4.columns = ['Year','K1','K2']\n",
    "\n",
    "m_params_5 = pd.DataFrame.from_dict(m_params_5, orient='index', columns=['k1', 'k2']).reset_index()\n",
    "m_params_5.columns = ['Year','K1','K2']"
   ]
  },
  {
   "cell_type": "code",
   "execution_count": 390,
   "id": "acc42d48-616d-4a92-87ce-08fdb89f0902",
   "metadata": {},
   "outputs": [],
   "source": [
    "t_params_1 = {}\n",
    "t_params_2 = {}\n",
    "t_params_3 = {}\n",
    "t_params_4 = {}\n",
    "t_params_5 = {}\n",
    "for year in range(1922,1985):\n",
    "    data_year = df_t[df_t['Year'] == year]\n",
    "    n = len(data_year)\n",
    "    matrix = np.array([[1]*n, (data_year['Age']-mean_value).tolist()]).T\n",
    "    U, S, V = np.linalg.svd(matrix, full_matrices=False)\n",
    "    \n",
    "    y1 = data_year[\"0_log\"]\n",
    "    y2 = data_year[\"1_log\"]\n",
    "    y3 = data_year[\"2_log\"]\n",
    "    y4 = data_year[\"3_log\"]\n",
    "    y5 = data_year[\"4_log\"]\n",
    "    \n",
    "    params1 = V.T @ np.linalg.inv(np.diag(S)) @ U.T @ y1\n",
    "    params2 = V.T @ np.linalg.inv(np.diag(S)) @ U.T @ y2\n",
    "    params3 = V.T @ np.linalg.inv(np.diag(S)) @ U.T @ y3\n",
    "    params4 = V.T @ np.linalg.inv(np.diag(S)) @ U.T @ y4\n",
    "    params5 = V.T @ np.linalg.inv(np.diag(S)) @ U.T @ y5\n",
    "   \n",
    "    t_params_1[year] = params1\n",
    "    t_params_2[year] = params2\n",
    "    t_params_3[year] = params3\n",
    "    t_params_4[year] = params4\n",
    "    t_params_5[year] = params5\n",
    "    \n",
    "t_params_1 = pd.DataFrame.from_dict(t_params_1, orient='index', columns=['k1', 'k2']).reset_index()\n",
    "t_params_1.columns = ['Year','K1','K2']\n",
    "\n",
    "t_params_2 = pd.DataFrame.from_dict(t_params_2, orient='index', columns=['k1', 'k2']).reset_index()\n",
    "t_params_2.columns = ['Year','K1','K2']\n",
    "\n",
    "t_params_3 = pd.DataFrame.from_dict(t_params_3, orient='index', columns=['k1', 'k2']).reset_index()\n",
    "t_params_3.columns = ['Year','K1','K2']\n",
    "\n",
    "t_params_4 = pd.DataFrame.from_dict(t_params_4, orient='index', columns=['k1', 'k2']).reset_index()\n",
    "t_params_4.columns = ['Year','K1','K2']\n",
    "\n",
    "t_params_5 = pd.DataFrame.from_dict(t_params_5, orient='index', columns=['k1', 'k2']).reset_index()\n",
    "t_params_5.columns = ['Year','K1','K2']"
   ]
  },
  {
   "cell_type": "code",
   "execution_count": 393,
   "id": "daf676a8-09dd-4a0b-a9dd-cb3919d8847e",
   "metadata": {},
   "outputs": [],
   "source": [
    "rest_data_fm = fm_params[fm_params['Year']>1984]\n",
    "rest_data_m = m_params[m_params['Year']>1984]\n",
    "rest_data_t = t_params[t_params['Year']>1984]"
   ]
  },
  {
   "cell_type": "code",
   "execution_count": 394,
   "id": "d7b417c6-08c4-47e9-8bbc-d1532156b030",
   "metadata": {},
   "outputs": [],
   "source": [
    "fm_params_1 = pd.concat([fm_params_1, rest_data_fm])"
   ]
  },
  {
   "cell_type": "code",
   "execution_count": 397,
   "id": "4612bf11-e762-4a44-8058-15815555afd7",
   "metadata": {},
   "outputs": [],
   "source": [
    "fm_params_2 = pd.concat([fm_params_2, rest_data_fm])\n",
    "fm_params_3 = pd.concat([fm_params_3, rest_data_fm])\n",
    "fm_params_4 = pd.concat([fm_params_4, rest_data_fm])\n",
    "fm_params_5 = pd.concat([fm_params_5, rest_data_fm])"
   ]
  },
  {
   "cell_type": "code",
   "execution_count": 402,
   "id": "65e04e53-3772-4663-8d06-09b10d0cd19b",
   "metadata": {},
   "outputs": [],
   "source": [
    "m_params_1 = pd.concat([m_params_1, rest_data_m])\n",
    "m_params_2 = pd.concat([m_params_2, rest_data_m])\n",
    "m_params_3 = pd.concat([m_params_3, rest_data_m])\n",
    "m_params_4 = pd.concat([m_params_4, rest_data_m])\n",
    "m_params_5 = pd.concat([m_params_5, rest_data_m])"
   ]
  },
  {
   "cell_type": "code",
   "execution_count": 405,
   "id": "5065bd3a-58d9-47dd-8382-6fd7951414d8",
   "metadata": {},
   "outputs": [],
   "source": [
    "t_params_1 = pd.concat([t_params_1, rest_data_t])\n",
    "t_params_2 = pd.concat([t_params_2, rest_data_t])\n",
    "t_params_3 = pd.concat([t_params_3, rest_data_t])\n",
    "t_params_4 = pd.concat([t_params_4, rest_data_t])\n",
    "t_params_5 = pd.concat([t_params_5, rest_data_t])"
   ]
  },
  {
   "cell_type": "code",
   "execution_count": 408,
   "id": "85b81e4d-327e-47e9-b0ce-4524c7a7911d",
   "metadata": {},
   "outputs": [],
   "source": [
    "fm_params_1.to_csv('fm_params_1.csv', index=False)\n",
    "fm_params_2.to_csv('fm_params_2.csv', index=False)\n",
    "fm_params_3.to_csv('fm_params_3.csv', index=False)\n",
    "fm_params_4.to_csv('fm_params_4.csv', index=False)\n",
    "fm_params_5.to_csv('fm_params_5.csv', index=False)\n",
    "\n",
    "m_params_1.to_csv('m_params_1.csv', index=False)\n",
    "m_params_2.to_csv('m_params_2.csv', index=False)\n",
    "m_params_3.to_csv('m_params_3.csv', index=False)\n",
    "m_params_4.to_csv('m_params_4.csv', index=False)\n",
    "m_params_5.to_csv('m_params_5.csv', index=False)\n",
    "\n",
    "t_params_1.to_csv('t_params_1.csv', index=False)\n",
    "t_params_2.to_csv('t_params_2.csv', index=False)\n",
    "t_params_3.to_csv('t_params_3.csv', index=False)\n",
    "t_params_4.to_csv('t_params_4.csv', index=False)\n",
    "t_params_5.to_csv('t_params_5.csv', index=False)"
   ]
  },
  {
   "cell_type": "code",
   "execution_count": 411,
   "id": "9fb0e3a8",
   "metadata": {},
   "outputs": [
    {
     "data": {
      "image/png": "[encoded data removed]",
      "text/plain": [
       "<Figure size 640x480 with 1 Axes>"
      ]
     },
     "metadata": {},
     "output_type": "display_data"
    }
   ],
   "source": [
    "import matplotlib.pyplot as plt\n",
    "plt.plot(fm_params['Year'], fm_params['K2'])\n",
    "plt.show()"
   ]
  },
  {
   "cell_type": "code",
   "execution_count": 434,
   "id": "6402c8d5",
   "metadata": {},
   "outputs": [
    {
     "data": {
      "image/png": "[encoded data removed]",
      "text/plain": [
       "<Figure size 640x480 with 1 Axes>"
      ]
     },
     "metadata": {},
     "output_type": "display_data"
    }
   ],
   "source": [
    "plt.plot(m_params['Year'], m_params['K2'])\n",
    "plt.show()"
   ]
  },
  {
   "cell_type": "code",
   "execution_count": 433,
   "id": "d9e1f51e",
   "metadata": {},
   "outputs": [
    {
     "data": {
      "image/png": "[encoded data removed]",
      "text/plain": [
       "<Figure size 640x480 with 1 Axes>"
      ]
     },
     "metadata": {},
     "output_type": "display_data"
    }
   ],
   "source": [
    "plt.plot(t_params['Year'], t_params['K2'])\n",
    "plt.show()"
   ]
  },
  {
   "cell_type": "markdown",
   "id": "d5fe7746",
   "metadata": {},
   "source": [
    "The data is non stationary "
   ]
  },
  {
   "cell_type": "markdown",
   "id": "845acf79",
   "metadata": {},
   "source": [
    "## ARIMA"
   ]
  },
  {
   "cell_type": "markdown",
   "id": "d715a2a3",
   "metadata": {},
   "source": [
    "### Dataset split"
   ]
  },
  {
   "cell_type": "code",
   "execution_count": 26,
   "id": "a5b1bcfa",
   "metadata": {},
   "outputs": [],
   "source": [
    "#Traing set\n",
    "split_index_fm = int(len(fm_params) * 0.8)\n",
    "split_index_m = int(len(m_params) * 0.8)\n",
    "split_index_t = int(len(t_params) * 0.8)\n",
    "\n",
    "train_fm = fm_params[:split_index_fm]\n",
    "train_m = m_params[:split_index_m]\n",
    "train_t = t_params[:split_index_t]\n",
    "\n",
    "#Testing set\n",
    "test_fm = fm_params[split_index_fm:]\n",
    "test_m = m_params[split_index_m:]\n",
    "test_t = t_params[split_index_t:]"
   ]
  },
  {
   "cell_type": "code",
   "execution_count": 34,
   "id": "c9cce6d6",
   "metadata": {},
   "outputs": [
    {
     "data": {
      "image/png": "[encoded data removed]",
      "text/plain": [
       "<Figure size 640x480 with 2 Axes>"
      ]
     },
     "metadata": {},
     "output_type": "display_data"
    }
   ],
   "source": [
    "#Female\n",
    "from statsmodels.graphics.tsaplots import plot_acf\n",
    "from statsmodels.graphics.tsaplots import plot_pacf\n",
    "\n",
    "f, ax = plt.subplots(nrows=2, ncols=1)\n",
    "plot_acf(fm_params['K2_diff'][1:],lags=20, ax=ax[0])\n",
    "plot_pacf(fm_params['K2_diff'][1:],lags=20, ax=ax[1], method='ols')\n",
    "plt.tight_layout()\n",
    "plt.show()"
   ]
  },
  {
   "cell_type": "markdown",
   "id": "f4d8400d",
   "metadata": {},
   "source": [
    "For Female, the possible model could be ARIMA(0,1,1)"
   ]
  },
  {
   "cell_type": "code",
   "execution_count": 37,
   "id": "ffd15695",
   "metadata": {},
   "outputs": [
    {
     "data": {
      "image/png": "[encoded data removed]",
      "text/plain": [
       "<Figure size 640x480 with 2 Axes>"
      ]
     },
     "metadata": {},
     "output_type": "display_data"
    }
   ],
   "source": [
    "#Male\n",
    "f, ax = plt.subplots(nrows=2, ncols=1)\n",
    "plot_acf(m_params['K2_diff'][1:],lags=20, ax=ax[0])\n",
    "plot_pacf(m_params['K2_diff'][1:],lags=20, ax=ax[1], method='ols')\n",
    "plt.tight_layout()\n",
    "plt.show()"
   ]
  },
  {
   "cell_type": "markdown",
   "id": "afd5f7b5",
   "metadata": {},
   "source": [
    "For male, the possible model could be ARIMA(0,1,1)"
   ]
  },
  {
   "cell_type": "code",
   "execution_count": 38,
   "id": "751ed73f",
   "metadata": {},
   "outputs": [
    {
     "data": {
      "image/png": "[encoded data removed]",
      "text/plain": [
       "<Figure size 640x480 with 2 Axes>"
      ]
     },
     "metadata": {},
     "output_type": "display_data"
    }
   ],
   "source": [
    "#Total\n",
    "f, ax = plt.subplots(nrows=2, ncols=1)\n",
    "plot_acf(t_params['K2_diff'][1:],lags=20, ax=ax[0])\n",
    "plot_pacf(t_params['K2_diff'][1:],lags=20, ax=ax[1], method='ols')\n",
    "plt.tight_layout()\n",
    "plt.show()"
   ]
  },
  {
   "cell_type": "markdown",
   "id": "73ec6739",
   "metadata": {},
   "source": [
    "For total, the possible model could be ARIMA(0,1,1)"
   ]
  },
  {
   "cell_type": "markdown",
   "id": "601edd29-6326-466c-ac05-809b7f65a970",
   "metadata": {},
   "source": [
    "## Auto fit"
   ]
  },
  {
   "cell_type": "code",
   "execution_count": 70,
   "id": "7a003201-60d1-4512-95f3-d315b86fbfff",
   "metadata": {},
   "outputs": [
    {
     "name": "stderr",
     "output_type": "stream",
     "text": [
      "/Users/mingzeluan/opt/anaconda3/lib/python3.9/site-packages/statsmodels/tsa/statespace/sarimax.py:1906: RuntimeWarning: invalid value encountered in reciprocal\n",
      "  return np.roots(self.polynomial_reduced_ma)**-1\n",
      "/Users/mingzeluan/opt/anaconda3/lib/python3.9/site-packages/statsmodels/tsa/statespace/sarimax.py:1899: RuntimeWarning: invalid value encountered in reciprocal\n",
      "  return np.roots(self.polynomial_reduced_ar)**-1\n",
      "/Users/mingzeluan/opt/anaconda3/lib/python3.9/site-packages/statsmodels/tsa/statespace/sarimax.py:1899: RuntimeWarning: invalid value encountered in reciprocal\n",
      "  return np.roots(self.polynomial_reduced_ar)**-1\n",
      "/Users/mingzeluan/opt/anaconda3/lib/python3.9/site-packages/statsmodels/tsa/statespace/sarimax.py:1906: RuntimeWarning: invalid value encountered in reciprocal\n",
      "  return np.roots(self.polynomial_reduced_ma)**-1\n",
      "/Users/mingzeluan/opt/anaconda3/lib/python3.9/site-packages/statsmodels/tsa/statespace/sarimax.py:1899: RuntimeWarning: invalid value encountered in reciprocal\n",
      "  return np.roots(self.polynomial_reduced_ar)**-1\n",
      "/Users/mingzeluan/opt/anaconda3/lib/python3.9/site-packages/statsmodels/tsa/statespace/sarimax.py:1899: RuntimeWarning: invalid value encountered in reciprocal\n",
      "  return np.roots(self.polynomial_reduced_ar)**-1\n",
      "/Users/mingzeluan/opt/anaconda3/lib/python3.9/site-packages/statsmodels/tsa/statespace/sarimax.py:1899: RuntimeWarning: invalid value encountered in reciprocal\n",
      "  return np.roots(self.polynomial_reduced_ar)**-1\n",
      "/Users/mingzeluan/opt/anaconda3/lib/python3.9/site-packages/statsmodels/tsa/statespace/sarimax.py:1906: RuntimeWarning: invalid value encountered in reciprocal\n",
      "  return np.roots(self.polynomial_reduced_ma)**-1\n",
      "/Users/mingzeluan/opt/anaconda3/lib/python3.9/site-packages/statsmodels/tsa/statespace/sarimax.py:1906: RuntimeWarning: invalid value encountered in reciprocal\n",
      "  return np.roots(self.polynomial_reduced_ma)**-1\n",
      "/Users/mingzeluan/opt/anaconda3/lib/python3.9/site-packages/statsmodels/tsa/statespace/sarimax.py:1906: RuntimeWarning: invalid value encountered in reciprocal\n",
      "  return np.roots(self.polynomial_reduced_ma)**-1\n"
     ]
    },
    {
     "data": {
      "text/plain": [
       "ARIMA(order=(2, 1, 3), scoring_args={}, suppress_warnings=True)"
      ]
     },
     "execution_count": 70,
     "metadata": {},
     "output_type": "execute_result"
    }
   ],
   "source": [
    "# auto-fit for female\n",
    "import pmdarima as pm\n",
    "from sklearn.preprocessing import StandardScaler\n",
    "# Create an instance of the StandardScaler\n",
    "scaler = StandardScaler()\n",
    "\n",
    "# Fit the scaler to your training data\n",
    "scaler.fit(train_fm['K2'].values.reshape(-1, 1))\n",
    "X_train_scaled = scaler.transform(train_fm['K2'].values.reshape(-1, 1))\n",
    "\n",
    "auto_fm = pm.auto_arima(X_train_scaled, stepwise=False, seasonal=False)\n",
    "auto_fm"
   ]
  },
  {
   "cell_type": "code",
   "execution_count": 78,
   "id": "30ed274c-83fb-44c3-b22e-d6355ea75461",
   "metadata": {},
   "outputs": [
    {
     "name": "stderr",
     "output_type": "stream",
     "text": [
      "/Users/mingzeluan/opt/anaconda3/lib/python3.9/site-packages/statsmodels/tsa/statespace/sarimax.py:1906: RuntimeWarning: invalid value encountered in reciprocal\n",
      "  return np.roots(self.polynomial_reduced_ma)**-1\n",
      "/Users/mingzeluan/opt/anaconda3/lib/python3.9/site-packages/statsmodels/tsa/statespace/sarimax.py:1899: RuntimeWarning: invalid value encountered in reciprocal\n",
      "  return np.roots(self.polynomial_reduced_ar)**-1\n",
      "/Users/mingzeluan/opt/anaconda3/lib/python3.9/site-packages/statsmodels/tsa/statespace/sarimax.py:1899: RuntimeWarning: invalid value encountered in reciprocal\n",
      "  return np.roots(self.polynomial_reduced_ar)**-1\n",
      "/Users/mingzeluan/opt/anaconda3/lib/python3.9/site-packages/statsmodels/tsa/statespace/sarimax.py:1906: RuntimeWarning: invalid value encountered in reciprocal\n",
      "  return np.roots(self.polynomial_reduced_ma)**-1\n",
      "/Users/mingzeluan/opt/anaconda3/lib/python3.9/site-packages/statsmodels/tsa/statespace/sarimax.py:1899: RuntimeWarning: invalid value encountered in reciprocal\n",
      "  return np.roots(self.polynomial_reduced_ar)**-1\n",
      "/Users/mingzeluan/opt/anaconda3/lib/python3.9/site-packages/statsmodels/tsa/statespace/sarimax.py:1899: RuntimeWarning: invalid value encountered in reciprocal\n",
      "  return np.roots(self.polynomial_reduced_ar)**-1\n",
      "/Users/mingzeluan/opt/anaconda3/lib/python3.9/site-packages/statsmodels/tsa/statespace/sarimax.py:1906: RuntimeWarning: invalid value encountered in reciprocal\n",
      "  return np.roots(self.polynomial_reduced_ma)**-1\n",
      "/Users/mingzeluan/opt/anaconda3/lib/python3.9/site-packages/statsmodels/tsa/statespace/sarimax.py:1899: RuntimeWarning: invalid value encountered in reciprocal\n",
      "  return np.roots(self.polynomial_reduced_ar)**-1\n",
      "/Users/mingzeluan/opt/anaconda3/lib/python3.9/site-packages/statsmodels/tsa/statespace/sarimax.py:1906: RuntimeWarning: invalid value encountered in reciprocal\n",
      "  return np.roots(self.polynomial_reduced_ma)**-1\n",
      "/Users/mingzeluan/opt/anaconda3/lib/python3.9/site-packages/statsmodels/tsa/statespace/sarimax.py:1906: RuntimeWarning: invalid value encountered in reciprocal\n",
      "  return np.roots(self.polynomial_reduced_ma)**-1\n",
      "/Users/mingzeluan/opt/anaconda3/lib/python3.9/site-packages/statsmodels/tsa/statespace/sarimax.py:1899: RuntimeWarning: invalid value encountered in reciprocal\n",
      "  return np.roots(self.polynomial_reduced_ar)**-1\n",
      "/Users/mingzeluan/opt/anaconda3/lib/python3.9/site-packages/statsmodels/tsa/statespace/sarimax.py:1906: RuntimeWarning: invalid value encountered in reciprocal\n",
      "  return np.roots(self.polynomial_reduced_ma)**-1\n"
     ]
    },
    {
     "data": {
      "text/plain": [
       "ARIMA(order=(0, 1, 1), scoring_args={}, suppress_warnings=True)"
      ]
     },
     "execution_count": 78,
     "metadata": {},
     "output_type": "execute_result"
    }
   ],
   "source": [
    "# auto-fit for male\n",
    "scaler.fit(train_m['K2'].values.reshape(-1, 1))\n",
    "X_train_scaled_m = scaler.transform(train_m['K2'].values.reshape(-1, 1))\n",
    "\n",
    "auto_m = pm.auto_arima(X_train_scaled_m, stepwise=False, seasonal=False)\n",
    "auto_m"
   ]
  },
  {
   "cell_type": "code",
   "execution_count": 81,
   "id": "abc2565b-01f3-4f99-a36f-98a4325a0159",
   "metadata": {},
   "outputs": [
    {
     "name": "stderr",
     "output_type": "stream",
     "text": [
      "/Users/mingzeluan/opt/anaconda3/lib/python3.9/site-packages/statsmodels/tsa/statespace/sarimax.py:1906: RuntimeWarning: invalid value encountered in reciprocal\n",
      "  return np.roots(self.polynomial_reduced_ma)**-1\n",
      "/Users/mingzeluan/opt/anaconda3/lib/python3.9/site-packages/statsmodels/tsa/statespace/sarimax.py:1899: RuntimeWarning: invalid value encountered in reciprocal\n",
      "  return np.roots(self.polynomial_reduced_ar)**-1\n",
      "/Users/mingzeluan/opt/anaconda3/lib/python3.9/site-packages/statsmodels/tsa/statespace/sarimax.py:1899: RuntimeWarning: invalid value encountered in reciprocal\n",
      "  return np.roots(self.polynomial_reduced_ar)**-1\n",
      "/Users/mingzeluan/opt/anaconda3/lib/python3.9/site-packages/statsmodels/tsa/statespace/sarimax.py:1906: RuntimeWarning: invalid value encountered in reciprocal\n",
      "  return np.roots(self.polynomial_reduced_ma)**-1\n",
      "/Users/mingzeluan/opt/anaconda3/lib/python3.9/site-packages/statsmodels/tsa/statespace/sarimax.py:1899: RuntimeWarning: invalid value encountered in reciprocal\n",
      "  return np.roots(self.polynomial_reduced_ar)**-1\n",
      "/Users/mingzeluan/opt/anaconda3/lib/python3.9/site-packages/statsmodels/tsa/statespace/sarimax.py:1899: RuntimeWarning: invalid value encountered in reciprocal\n",
      "  return np.roots(self.polynomial_reduced_ar)**-1\n",
      "/Users/mingzeluan/opt/anaconda3/lib/python3.9/site-packages/statsmodels/tsa/statespace/sarimax.py:1899: RuntimeWarning: invalid value encountered in reciprocal\n",
      "  return np.roots(self.polynomial_reduced_ar)**-1\n",
      "/Users/mingzeluan/opt/anaconda3/lib/python3.9/site-packages/statsmodels/tsa/statespace/sarimax.py:1906: RuntimeWarning: invalid value encountered in reciprocal\n",
      "  return np.roots(self.polynomial_reduced_ma)**-1\n",
      "/Users/mingzeluan/opt/anaconda3/lib/python3.9/site-packages/statsmodels/tsa/statespace/sarimax.py:1906: RuntimeWarning: invalid value encountered in reciprocal\n",
      "  return np.roots(self.polynomial_reduced_ma)**-1\n",
      "/Users/mingzeluan/opt/anaconda3/lib/python3.9/site-packages/statsmodels/tsa/statespace/sarimax.py:1906: RuntimeWarning: invalid value encountered in reciprocal\n",
      "  return np.roots(self.polynomial_reduced_ma)**-1\n"
     ]
    },
    {
     "data": {
      "text/plain": [
       "ARIMA(order=(0, 1, 1), scoring_args={}, suppress_warnings=True)"
      ]
     },
     "execution_count": 81,
     "metadata": {},
     "output_type": "execute_result"
    }
   ],
   "source": [
    "# auto-fit for total\n",
    "scaler.fit(train_t['K2'].values.reshape(-1, 1))\n",
    "X_train_scaled_t = scaler.transform(train_t['K2'].values.reshape(-1, 1))\n",
    "\n",
    "auto_t = pm.auto_arima(X_train_scaled_t, stepwise=False, seasonal=False)\n",
    "auto_t"
   ]
  },
  {
   "cell_type": "markdown",
   "id": "72adcf02-5919-4b83-8bdb-78e6896105d0",
   "metadata": {},
   "source": [
    "### generate the ARIMA prediction and prediction interval"
   ]
  },
  {
   "cell_type": "code",
   "execution_count": 63,
   "id": "6a2bf5ec-4cdc-483d-868d-152be471b469",
   "metadata": {},
   "outputs": [],
   "source": [
    "# Female\n",
    "from statsmodels.tsa.arima.model import ARIMA\n",
    "model = ARIMA(X_train_scaled, order=(2,1,3))\n",
    "model_fit = model.fit()\n",
    "predict = model_fit.get_forecast(steps=len(test_fm))\n",
    "confidence_intervals = predict.conf_int(0.05)\n",
    "forecast_fm = model_fit.forecast(steps=len(test_fm))"
   ]
  },
  {
   "cell_type": "code",
   "execution_count": 65,
   "id": "8bf78012-d15b-4cd3-807d-b25b4cd7fc4b",
   "metadata": {},
   "outputs": [],
   "source": [
    "# Male\n",
    "model_m = ARIMA(X_train_scaled_m, order=(0,1,1))\n",
    "model_fit_m = model_m.fit()\n",
    "predict_m = model_fit_m.get_forecast(steps=len(test_m))\n",
    "confidence_intervals_m = predict_m.conf_int(0.05)\n",
    "forecast_m = model_fit.forecast(steps=len(test_m))"
   ]
  },
  {
   "cell_type": "code",
   "execution_count": 67,
   "id": "420f237a-d3ff-487c-9b1d-0a122fdfa8d1",
   "metadata": {},
   "outputs": [
    {
     "name": "stderr",
     "output_type": "stream",
     "text": [
      "/Users/mingzeluan/opt/anaconda3/lib/python3.9/site-packages/statsmodels/base/model.py:604: ConvergenceWarning: Maximum Likelihood optimization failed to converge. Check mle_retvals\n",
      "  warnings.warn(\"Maximum Likelihood optimization failed to \"\n"
     ]
    }
   ],
   "source": [
    "# Total\n",
    "model_t = ARIMA(X_train_scaled_t, order=(0,1,1))\n",
    "model_fit_t = model_t.fit()\n",
    "predict_t = model_fit_t.get_forecast(steps=len(test_t))\n",
    "confidence_intervals_t = predict_t.conf_int(0.05)\n",
    "forecast_t = model_fit.forecast(steps=len(test_t))"
   ]
  },
  {
   "cell_type": "code",
   "execution_count": 71,
   "id": "3a73a502-24d8-4a15-a588-220c28fa951b",
   "metadata": {},
   "outputs": [],
   "source": [
    "# transform the output to original scale\n",
    "forecast_fm_in = scaler.inverse_transform(forecast_fm.reshape(-1, 1))"
   ]
  },
  {
   "cell_type": "code",
   "execution_count": 76,
   "id": "a37eb283-d70d-4fa9-815d-7b363733c136",
   "metadata": {},
   "outputs": [],
   "source": [
    "fm_lower, fm_upper = zip(*confidence_intervals)\n",
    "fm_lower = np.array(fm_lower)\n",
    "fm_upper = np.array(fm_upper)"
   ]
  },
  {
   "cell_type": "code",
   "execution_count": 77,
   "id": "7969f50f-1b01-48a6-affd-4e77c929b050",
   "metadata": {},
   "outputs": [],
   "source": [
    "fm_lower_in = scaler.inverse_transform(fm_lower.reshape(-1, 1))\n",
    "fm_upper_in = scaler.inverse_transform(fm_upper.reshape(-1, 1))"
   ]
  },
  {
   "cell_type": "code",
   "execution_count": 79,
   "id": "5b1cc16b-967c-4f10-a925-501946c0e56f",
   "metadata": {},
   "outputs": [],
   "source": [
    "forecast_m_in = scaler.inverse_transform(forecast_m.reshape(-1, 1))"
   ]
  },
  {
   "cell_type": "code",
   "execution_count": 80,
   "id": "4bc3cfcc-4c8d-47db-9547-1b491b3aaac1",
   "metadata": {},
   "outputs": [],
   "source": [
    "m_lower, m_upper = zip(*confidence_intervals_m)\n",
    "m_lower = np.array(m_lower)\n",
    "m_upper = np.array(m_upper)\n",
    "m_lower_in = scaler.inverse_transform(m_lower.reshape(-1, 1))\n",
    "m_upper_in = scaler.inverse_transform(m_upper.reshape(-1, 1))"
   ]
  },
  {
   "cell_type": "code",
   "execution_count": 82,
   "id": "adac2710-0cde-4a4b-a0d6-8d73b01e5916",
   "metadata": {},
   "outputs": [],
   "source": [
    "forecast_t_in = scaler.inverse_transform(forecast_t.reshape(-1, 1))"
   ]
  },
  {
   "cell_type": "code",
   "execution_count": 83,
   "id": "2a7ea56e-8798-4994-9e8b-555a424dce64",
   "metadata": {},
   "outputs": [],
   "source": [
    "t_lower, t_upper = zip(*confidence_intervals_t)\n",
    "t_lower = np.array(t_lower)\n",
    "t_upper = np.array(t_upper)\n",
    "t_lower_in = scaler.inverse_transform(t_lower.reshape(-1, 1))\n",
    "t_upper_in = scaler.inverse_transform(t_upper.reshape(-1, 1))"
   ]
  },
  {
   "cell_type": "code",
   "execution_count": 87,
   "id": "5cd80a09-5283-4500-96c3-6a8a8528c94a",
   "metadata": {},
   "outputs": [],
   "source": [
    "#ARIMA_csv = pd.DataFrame(forecast_fm_in, columns = ['Female'])\n",
    "ARIMA_csv['Male'] = forecast_m_in\n",
    "ARIMA_csv['Total'] = forecast_t_in\n",
    "ARIMA_csv['Female_l'] = fm_lower_in\n",
    "ARIMA_csv['Female_u'] = fm_upper_in\n",
    "ARIMA_csv['Male_l'] = m_lower_in\n",
    "ARIMA_csv['Male_u'] = m_upper_in\n",
    "ARIMA_csv['Total_l'] = t_lower_in\n",
    "ARIMA_csv['Total_u'] = t_upper_in"
   ]
  },
  {
   "cell_type": "code",
   "execution_count": 88,
   "id": "0d27b0c1-0541-4282-b14f-63d239416b34",
   "metadata": {},
   "outputs": [],
   "source": [
    "ARIMA_csv.to_csv('ARIMA.csv', index=False)"
   ]
  },
  {
   "cell_type": "markdown",
   "id": "81dfe74b-5df5-4593-be72-0f4e19c2e0fc",
   "metadata": {},
   "source": [
    "### Save the data"
   ]
  },
  {
   "cell_type": "code",
   "execution_count": 410,
   "id": "28acf796-f7d2-4edf-b0ea-556e25bf60e5",
   "metadata": {},
   "outputs": [],
   "source": [
    "fm_params.to_csv('fm_params.csv', index=False)\n",
    "m_params.to_csv('m_params.csv', index=False)\n",
    "t_params.to_csv('t_params.csv', index=False)"
   ]
  }
 ],
 "metadata": {
  "kernelspec": {
   "display_name": "Python 3 (ipykernel)",
   "language": "python",
   "name": "python3"
  },
  "language_info": {
   "codemirror_mode": {
    "name": "ipython",
    "version": 3
   },
   "file_extension": ".py",
   "mimetype": "text/x-python",
   "name": "python",
   "nbconvert_exporter": "python",
   "pygments_lexer": "ipython3",
   "version": "3.9.13"
  }
 },
 "nbformat": 4,
 "nbformat_minor": 5
}
